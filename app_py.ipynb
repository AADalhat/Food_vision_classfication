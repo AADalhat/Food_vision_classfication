{
  "nbformat": 4,
  "nbformat_minor": 0,
  "metadata": {
    "colab": {
      "provenance": []
    },
    "kernelspec": {
      "name": "python3",
      "display_name": "Python 3"
    },
    "language_info": {
      "name": "python"
    }
  },
  "cells": [
    {
      "cell_type": "markdown",
      "source": [
        "**Gradio app file**"
      ],
      "metadata": {
        "id": "atKbSAVth4Kd"
      }
    },
    {
      "cell_type": "code",
      "execution_count": null,
      "metadata": {
        "id": "kZuuAfQVhxJL"
      },
      "outputs": [],
      "source": [
        "import tensorflow as tf\n",
        "import numpy as np\n",
        "import json\n",
        "import gradio as gr\n",
        "from PIL import Image\n",
        "\n",
        "# Load model\n",
        "model = tf.keras.models.load_model(\"food_vision_model.keras\")\n",
        "\n",
        "# Load metadata\n",
        "with open(\"food_vision_metadata.json\", \"r\") as f:\n",
        "    food_info = json.load(f)\n",
        "\n",
        "class_names = list(food_info.keys())\n",
        "\n",
        "def load_and_prep_image(img, img_size=(224, 224)):\n",
        "    img = img.resize(img_size)\n",
        "    img_array = tf.keras.preprocessing.image.img_to_array(img)\n",
        "    img_array = tf.expand_dims(img_array, axis=0)\n",
        "    img_array = tf.keras.applications.efficientnet.preprocess_input(img_array)\n",
        "    return img_array\n",
        "\n",
        "def predict(img):\n",
        "    img_array = load_and_prep_image(img)\n",
        "    pred = model.predict(img_array)[0]\n",
        "    pred_class = class_names[np.argmax(pred)]\n",
        "    confidence = float(np.max(pred))\n",
        "    info = food_info.get(pred_class, {})\n",
        "\n",
        "    result = f\"\"\"🍽️ **Food**: {pred_class.replace('_', ' ').title()}\n",
        "🌍 **Ethnicity**: {info.get('ethnicity', 'N/A')}\n",
        "🥦 **Ingredients**: {info.get('ingredients', 'N/A')}\n",
        "🧪 **Nutrients**:\n",
        "  - Calories: {info.get('nutrients', {}).get('Calories', 'N/A')} kcal\n",
        "  - Carbs: {info.get('nutrients', {}).get('Carbs', 'N/A')}g\n",
        "  - Protein: {info.get('nutrients', {}).get('Protein', 'N/A')}g\n",
        "  - Fat: {info.get('nutrients', {}).get('Fat', 'N/A')}g\n",
        "❤️ **Health Advice**: {info.get('health', 'N/A')}\n",
        "🌱 **Diet Type**: {info.get('diet', 'N/A')}\n",
        "🔍 **Confidence**: {confidence:.2%}\"\"\"\n",
        "\n",
        "    return result\n",
        "\n",
        "demo = gr.Interface(\n",
        "    fn=predict,\n",
        "    inputs=gr.Image(type=\"pil\"),\n",
        "    outputs=\"markdown\",\n",
        "    title=\"🍛 Nigerian Food Classifier\",\n",
        "    description=\"Upload a food image to predict and get rich food metadata (ingredients, nutrients, and more).\"\n",
        ")\n",
        "\n",
        "demo.launch()\n"
      ]
    }
  ]
}